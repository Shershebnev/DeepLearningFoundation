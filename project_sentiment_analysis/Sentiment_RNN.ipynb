{
 "cells": [
  {
   "cell_type": "markdown",
   "metadata": {
    "deletable": true,
    "editable": true
   },
   "source": [
    "# Sentiment Analysis with an RNN\n",
    "\n",
    "In this notebook, you'll implement a recurrent neural network that performs sentiment analysis. Using an RNN rather than a feedfoward network is more accurate since we can include information about the *sequence* of words. Here we'll use a dataset of movie reviews, accompanied by labels.\n",
    "\n",
    "The architecture for this network is shown below.\n",
    "\n",
    "<img src=\"assets/network_diagram.png\" width=400px>\n",
    "\n",
    "Here, we'll pass in words to an embedding layer. We need an embedding layer because we have tens of thousands of words, so we'll need a more efficient representation for our input data than one-hot encoded vectors. You should have seen this before from the word2vec lesson. You can actually train up an embedding with word2vec and use it here. But it's good enough to just have an embedding layer and let the network learn the embedding table on it's own.\n",
    "\n",
    "From the embedding layer, the new representations will be passed to LSTM cells. These will add recurrent connections to the network so we can include information about the sequence of words in the data. Finally, the LSTM cells will go to a sigmoid output layer here. We're using the sigmoid because we're trying to predict if this text has positive or negative sentiment. The output layer will just be a single unit then, with a sigmoid activation function.\n",
    "\n",
    "We don't care about the sigmoid outputs except for the very last one, we can ignore the rest. We'll calculate the cost from the output of the last step and the training label."
   ]
  },
  {
   "cell_type": "code",
   "execution_count": 1,
   "metadata": {
    "collapsed": true,
    "deletable": true,
    "editable": true
   },
   "outputs": [],
   "source": [
    "import numpy as np\n",
    "import tensorflow as tf"
   ]
  },
  {
   "cell_type": "code",
   "execution_count": 2,
   "metadata": {
    "collapsed": true,
    "deletable": true,
    "editable": true
   },
   "outputs": [],
   "source": [
    "with open('reviews.txt', 'r') as f:\n",
    "    reviews = f.read()\n",
    "with open('labels.txt', 'r') as f:\n",
    "    labels = f.read()"
   ]
  },
  {
   "cell_type": "code",
   "execution_count": 3,
   "metadata": {
    "collapsed": false,
    "deletable": true,
    "editable": true
   },
   "outputs": [
    {
     "data": {
      "text/plain": [
       "'bromwell high is a cartoon comedy . it ran at the same time as some other programs about school life  such as  teachers  . my   years in the teaching profession lead me to believe that bromwell high  s satire is much closer to reality than is  teachers  . the scramble to survive financially  the insightful students who can see right through their pathetic teachers  pomp  the pettiness of the whole situation  all remind me of the schools i knew and their students . when i saw the episode in which a student repeatedly tried to burn down the school  i immediately recalled . . . . . . . . . at . . . . . . . . . . high . a classic line inspector i  m here to sack one of your teachers . student welcome to bromwell high . i expect that many adults of my age think that bromwell high is far fetched . what a pity that it isn  t   \\nstory of a man who has unnatural feelings for a pig . starts out with a opening scene that is a terrific example of absurd comedy . a formal orchestra audience is turned into an insane  violent mob by the crazy chantings of it  s singers . unfortunately it stays absurd the whole time with no general narrative eventually making it just too off putting . even those from the era should be turned off . the cryptic dialogue would make shakespeare seem easy to a third grader . on a technical level it  s better than you might think with some good cinematography by future great vilmos zsigmond . future stars sally kirkland and frederic forrest can be seen briefly .  \\nhomelessness  or houselessness as george carlin stated  has been an issue for years but never a plan to help those on the street that were once considered human who did everything from going to school  work  or vote for the matter . most people think of the homeless as just a lost cause while worrying about things such as racism  the war on iraq  pressuring kids to succeed  technology  the elections  inflation  or worrying if they  ll be next to end up on the streets .  br    br   but what if y'"
      ]
     },
     "execution_count": 3,
     "metadata": {},
     "output_type": "execute_result"
    }
   ],
   "source": [
    "reviews[:2000]"
   ]
  },
  {
   "cell_type": "markdown",
   "metadata": {
    "deletable": true,
    "editable": true
   },
   "source": [
    "## Data preprocessing\n",
    "\n",
    "The first step when building a neural network model is getting your data into the proper form to feed into the network. Since we're using embedding layers, we'll need to encode each word with an integer. We'll also want to clean it up a bit.\n",
    "\n",
    "You can see an example of the reviews data above. We'll want to get rid of those periods. Also, you might notice that the reviews are delimited with newlines `\\n`. To deal with those, I'm going to split the text into each review using `\\n` as the delimiter. Then I can combined all the reviews back together into one big string.\n",
    "\n",
    "First, let's remove all punctuation. Then get all the text without the newlines and split it into individual words."
   ]
  },
  {
   "cell_type": "code",
   "execution_count": 4,
   "metadata": {
    "collapsed": true,
    "deletable": true,
    "editable": true
   },
   "outputs": [],
   "source": [
    "from string import punctuation\n",
    "all_text = ''.join([c for c in reviews if c not in punctuation])\n",
    "reviews = all_text.split('\\n')\n",
    "\n",
    "all_text = ' '.join(reviews)\n",
    "words = all_text.split()"
   ]
  },
  {
   "cell_type": "code",
   "execution_count": 5,
   "metadata": {
    "collapsed": false,
    "deletable": true,
    "editable": true
   },
   "outputs": [
    {
     "data": {
      "text/plain": [
       "'bromwell high is a cartoon comedy  it ran at the same time as some other programs about school life  such as  teachers   my   years in the teaching profession lead me to believe that bromwell high  s satire is much closer to reality than is  teachers   the scramble to survive financially  the insightful students who can see right through their pathetic teachers  pomp  the pettiness of the whole situation  all remind me of the schools i knew and their students  when i saw the episode in which a student repeatedly tried to burn down the school  i immediately recalled          at           high  a classic line inspector i  m here to sack one of your teachers  student welcome to bromwell high  i expect that many adults of my age think that bromwell high is far fetched  what a pity that it isn  t    story of a man who has unnatural feelings for a pig  starts out with a opening scene that is a terrific example of absurd comedy  a formal orchestra audience is turned into an insane  violent mob by the crazy chantings of it  s singers  unfortunately it stays absurd the whole time with no general narrative eventually making it just too off putting  even those from the era should be turned off  the cryptic dialogue would make shakespeare seem easy to a third grader  on a technical level it  s better than you might think with some good cinematography by future great vilmos zsigmond  future stars sally kirkland and frederic forrest can be seen briefly    homelessness  or houselessness as george carlin stated  has been an issue for years but never a plan to help those on the street that were once considered human who did everything from going to school  work  or vote for the matter  most people think of the homeless as just a lost cause while worrying about things such as racism  the war on iraq  pressuring kids to succeed  technology  the elections  inflation  or worrying if they  ll be next to end up on the streets   br    br   but what if you were given a bet to live on the st'"
      ]
     },
     "execution_count": 5,
     "metadata": {},
     "output_type": "execute_result"
    }
   ],
   "source": [
    "all_text[:2000]"
   ]
  },
  {
   "cell_type": "code",
   "execution_count": 6,
   "metadata": {
    "collapsed": false,
    "deletable": true,
    "editable": true,
    "scrolled": true
   },
   "outputs": [
    {
     "data": {
      "text/plain": [
       "['bromwell',\n",
       " 'high',\n",
       " 'is',\n",
       " 'a',\n",
       " 'cartoon',\n",
       " 'comedy',\n",
       " 'it',\n",
       " 'ran',\n",
       " 'at',\n",
       " 'the',\n",
       " 'same',\n",
       " 'time',\n",
       " 'as',\n",
       " 'some',\n",
       " 'other',\n",
       " 'programs',\n",
       " 'about',\n",
       " 'school',\n",
       " 'life',\n",
       " 'such',\n",
       " 'as',\n",
       " 'teachers',\n",
       " 'my',\n",
       " 'years',\n",
       " 'in',\n",
       " 'the',\n",
       " 'teaching',\n",
       " 'profession',\n",
       " 'lead',\n",
       " 'me',\n",
       " 'to',\n",
       " 'believe',\n",
       " 'that',\n",
       " 'bromwell',\n",
       " 'high',\n",
       " 's',\n",
       " 'satire',\n",
       " 'is',\n",
       " 'much',\n",
       " 'closer',\n",
       " 'to',\n",
       " 'reality',\n",
       " 'than',\n",
       " 'is',\n",
       " 'teachers',\n",
       " 'the',\n",
       " 'scramble',\n",
       " 'to',\n",
       " 'survive',\n",
       " 'financially',\n",
       " 'the',\n",
       " 'insightful',\n",
       " 'students',\n",
       " 'who',\n",
       " 'can',\n",
       " 'see',\n",
       " 'right',\n",
       " 'through',\n",
       " 'their',\n",
       " 'pathetic',\n",
       " 'teachers',\n",
       " 'pomp',\n",
       " 'the',\n",
       " 'pettiness',\n",
       " 'of',\n",
       " 'the',\n",
       " 'whole',\n",
       " 'situation',\n",
       " 'all',\n",
       " 'remind',\n",
       " 'me',\n",
       " 'of',\n",
       " 'the',\n",
       " 'schools',\n",
       " 'i',\n",
       " 'knew',\n",
       " 'and',\n",
       " 'their',\n",
       " 'students',\n",
       " 'when',\n",
       " 'i',\n",
       " 'saw',\n",
       " 'the',\n",
       " 'episode',\n",
       " 'in',\n",
       " 'which',\n",
       " 'a',\n",
       " 'student',\n",
       " 'repeatedly',\n",
       " 'tried',\n",
       " 'to',\n",
       " 'burn',\n",
       " 'down',\n",
       " 'the',\n",
       " 'school',\n",
       " 'i',\n",
       " 'immediately',\n",
       " 'recalled',\n",
       " 'at',\n",
       " 'high']"
      ]
     },
     "execution_count": 6,
     "metadata": {},
     "output_type": "execute_result"
    }
   ],
   "source": [
    "words[:100]"
   ]
  },
  {
   "cell_type": "markdown",
   "metadata": {
    "deletable": true,
    "editable": true
   },
   "source": [
    "### Encoding the words\n",
    "\n",
    "The embedding lookup requires that we pass in integers to our network. The easiest way to do this is to create dictionaries that map the words in the vocabulary to integers. Then we can convert each of our reviews into integers so they can be passed into the network.\n",
    "\n",
    "> **Exercise:** Now you're going to encode the words with integers. Build a dictionary that maps words to integers. Later we're going to pad our input vectors with zeros, so make sure the integers **start at 1, not 0**.\n",
    "> Also, convert the reviews to integers and store the reviews in a new list called `reviews_ints`. "
   ]
  },
  {
   "cell_type": "code",
   "execution_count": 7,
   "metadata": {
    "collapsed": false,
    "deletable": true,
    "editable": true
   },
   "outputs": [],
   "source": [
    "# Create your dictionary that maps vocab words to integers here\n",
    "words = sorted(set(words))\n",
    "vocab_to_int = {word:i for i,word in enumerate(words, 1)}\n",
    "\n",
    "# Convert the reviews to integers, same shape as reviews list, but with integers\n",
    "reviews_ints = []\n",
    "for review in reviews:\n",
    "    reviews_ints.append([vocab_to_int[word] for word in review.split()])"
   ]
  },
  {
   "cell_type": "markdown",
   "metadata": {
    "deletable": true,
    "editable": true
   },
   "source": [
    "### Encoding the labels\n",
    "\n",
    "Our labels are \"positive\" or \"negative\". To use these labels in our network, we need to convert them to 0 and 1.\n",
    "\n",
    "> **Exercise:** Convert labels from `positive` and `negative` to 1 and 0, respectively."
   ]
  },
  {
   "cell_type": "code",
   "execution_count": 8,
   "metadata": {
    "collapsed": false,
    "deletable": true,
    "editable": true
   },
   "outputs": [],
   "source": [
    "# Convert labels to 1s and 0s for 'positive' and 'negative'\n",
    "labels = np.array([1 if item == \"positive\" else 0 for item in labels.split(\"\\n\")])"
   ]
  },
  {
   "cell_type": "markdown",
   "metadata": {
    "deletable": true,
    "editable": true
   },
   "source": [
    "If you built `labels` correctly, you should see the next output."
   ]
  },
  {
   "cell_type": "code",
   "execution_count": 9,
   "metadata": {
    "collapsed": false,
    "deletable": true,
    "editable": true
   },
   "outputs": [
    {
     "name": "stdout",
     "output_type": "stream",
     "text": [
      "Zero-length reviews: 1\n",
      "Maximum review length: 2514\n"
     ]
    }
   ],
   "source": [
    "from collections import Counter\n",
    "review_lens = Counter([len(x) for x in reviews_ints])\n",
    "print(\"Zero-length reviews: {}\".format(review_lens[0]))\n",
    "print(\"Maximum review length: {}\".format(max(review_lens)))"
   ]
  },
  {
   "cell_type": "markdown",
   "metadata": {
    "deletable": true,
    "editable": true
   },
   "source": [
    "Okay, a couple issues here. We seem to have one review with zero length. And, the maximum review length is way too many steps for our RNN. Let's truncate to 200 steps. For reviews shorter than 200, we'll pad with 0s. For reviews longer than 200, we can truncate them to the first 200 characters.\n",
    "\n",
    "> **Exercise:** First, remove the review with zero length from the `reviews_ints` list."
   ]
  },
  {
   "cell_type": "code",
   "execution_count": 10,
   "metadata": {
    "collapsed": false,
    "deletable": true,
    "editable": true
   },
   "outputs": [],
   "source": [
    "# Filter out that review with 0 length\n",
    "zero_length_idx = None\n",
    "for i in range(len(reviews_ints)):\n",
    "    if len(reviews_ints[i]) == 0:\n",
    "        zero_length_idx = i\n",
    "reviews_ints.pop(zero_length_idx)\n",
    "labels = np.delete(labels, zero_length_idx)"
   ]
  },
  {
   "cell_type": "markdown",
   "metadata": {
    "deletable": true,
    "editable": true
   },
   "source": [
    "> **Exercise:** Now, create an array `features` that contains the data we'll pass to the network. The data should come from `review_ints`, since we want to feed integers to the network. Each row should be 200 elements long. For reviews shorter than 200 words, left pad with 0s. That is, if the review is `['best', 'movie', 'ever']`, `[117, 18, 128]` as integers, the row will look like `[0, 0, 0, ..., 0, 117, 18, 128]`. For reviews longer than 200, use on the first 200 words as the feature vector.\n",
    "\n",
    "This isn't trivial and there are a bunch of ways to do this. But, if you're going to be building your own deep learning networks, you're going to have to get used to preparing your data.\n",
    "\n"
   ]
  },
  {
   "cell_type": "code",
   "execution_count": 11,
   "metadata": {
    "collapsed": false,
    "deletable": true,
    "editable": true
   },
   "outputs": [],
   "source": [
    "seq_len = 200\n",
    "features = np.zeros((len(reviews_ints), seq_len), dtype = int)\n",
    "for idx, review in enumerate(reviews_ints):\n",
    "    if len(review) >= seq_len:\n",
    "        features[idx] = review[:seq_len]\n",
    "    else:\n",
    "        features[idx, -len(review):] = review"
   ]
  },
  {
   "cell_type": "markdown",
   "metadata": {
    "deletable": true,
    "editable": true
   },
   "source": [
    "If you build features correctly, it should look like that cell output below."
   ]
  },
  {
   "cell_type": "code",
   "execution_count": 12,
   "metadata": {
    "collapsed": false,
    "deletable": true,
    "editable": true
   },
   "outputs": [
    {
     "data": {
      "text/plain": [
       "array([[    0,     0,     0,     0,     0,     0,     0,     0,     0,\n",
       "            0,     0,     0,     0,     0,     0,     0,     0,     0,\n",
       "            0,     0,     0,     0,     0,     0,     0,     0,     0,\n",
       "            0,     0,     0,     0,     0,     0,     0,     0,     0,\n",
       "            0,     0,     0,     0,     0,     0,     0,     0,     0,\n",
       "            0,     0,     0,     0,     0,     0,     0,     0,     0,\n",
       "            0,     0,     0,     0,     0,     0,  8210, 29951, 33665,\n",
       "            1,  9819, 12477, 33768, 52591,  3689, 65543, 56451, 66137,\n",
       "         3397, 60807, 46549, 51107,   181, 57199, 37775, 63328,  3397,\n",
       "        64947, 43774, 73400, 32081, 65543, 64949, 51048, 37169, 40892,\n",
       "        66340,  5656, 65523,  8210, 29951, 56131, 56749, 33665, 43370,\n",
       "        11909],\n",
       "       [    0,     0,     0,     0,     0,     0,     0,     0,     0,\n",
       "            0,     0,     0,     0,     0,     0,     0,     0,     0,\n",
       "            0,     0,     0,     0,     0,     0,     0,     0,     0,\n",
       "            0,     0,     0,     0,     0,     0,     0,     0,     0,\n",
       "            0,     0,     0,     0,     0,     0,     0,     0,     0,\n",
       "            0,     0,     0,     0,     0,     0,     0,     0,     0,\n",
       "            0,     0,     0,     0,     0,     0,     0,     0,     0,\n",
       "            0,     0,     0,     0,     0,     0,     0,     0,     0,\n",
       "            0,     0,     0,     0,     0,     0,     0,     0,     0,\n",
       "            0,     0,     0,     0,     0, 62632, 45809,     1, 39682,\n",
       "        72144, 29037, 69126, 23140, 24476,     1, 49065, 62117, 46592,\n",
       "        72586],\n",
       "       [30468, 46281, 30894,  3397, 26255,  9670, 62132, 29037,  5480,\n",
       "         2085, 33756, 24476, 73400,  8855, 44548,     1, 49379, 66340,\n",
       "        29594, 65827, 46049, 65543, 62781, 65523, 71839, 46054, 13290,\n",
       "        31082, 72144, 17291, 21776, 25211, 27003, 66340, 57199, 72866,\n",
       "        46281, 70983, 24476, 65543, 40519, 43109, 48288, 65736, 45809,\n",
       "        65543, 30467,  3397, 34885,     1, 38584, 10113, 72024, 72933,\n",
       "          181, 65733, 63328,  3397, 52296, 65543, 71324, 46049, 33556,\n",
       "        50713, 35616, 66340, 63295, 65021, 65543, 20231, 32614, 46281,\n",
       "        72933, 31583, 65683, 38198,  5272, 44626, 66340, 20769, 69549,\n",
       "        46049, 65543, 62790,  7681,  7681,  8855, 71943, 31583, 73569,\n",
       "        71839, 26656,     1,  6005, 66340, 38153, 46049, 65543, 62790,\n",
       "        24476],\n",
       "       [ 1288, 62117,  3397,     1,  7768, 44559, 39012, 49383, 33665,\n",
       "        38216, 69549, 72586, 69952, 47210, 63328,  5709, 66340, 54889,\n",
       "         8824, 48799, 62377, 34001, 62390, 72144, 33665, 24288, 65580,\n",
       "            1,  8634, 45809, 70701, 56131, 66340, 30149, 21543, 32081,\n",
       "        50618, 45809, 33768,  5599, 46169, 66340, 65543, 51584,  3397,\n",
       "            1, 43651,  1737, 46049,  6978, 33665, 62377, 15635, 34807,\n",
       "        35224, 52181, 29692, 60856, 65543, 39012, 34340, 64548, 45812,\n",
       "         3397, 49397,  8855, 41701,  1251, 65543, 49383, 33665, 29890,\n",
       "        33894,  8937, 65543, 12023, 49123, 10480, 55282, 24783, 30149,\n",
       "        67982,   361, 56131,  4783, 42797, 40121, 72381, 41638, 47808,\n",
       "        72144, 35987, 65543, 47761, 14511, 46592, 72586, 60000, 25909,\n",
       "        65683],\n",
       "       [    0,     0,     0,     0,     0,     0,     0,     0,     0,\n",
       "            0,     0,     0,     0,     0,     0,     0,     0,     0,\n",
       "            0,     0,     0,     0,     0,     0,     0,     0,     0,\n",
       "            0,     0,     0,     0,     0,     0,     0,     0,     0,\n",
       "            0,     0,     0,     0,     0,     0,     0,     0,     0,\n",
       "            0,     0,     0,     0,     0,  8073, 46756,   528,  8937,\n",
       "        37539,  2385, 71405,  5984, 18984, 30286, 36557, 31424, 29156,\n",
       "        21744, 57783,  2176, 38665, 57048, 32081, 11925, 71344,  3051,\n",
       "        57682, 66340, 45030, 65543, 13826, 46049, 22488, 33665,     1,\n",
       "        11650,  3397, 27109,  3397,  2642, 32081,  6654, 56227, 65543,\n",
       "        64533, 46049, 37113, 33665,  1737, 63610,  1030,  5599,   410,\n",
       "        45809],\n",
       "       [    0,     0,     0,     0,     0,     0,     0,     0,     0,\n",
       "            0,     0,     0,     0,     0,     0,     0,     0,     0,\n",
       "            0,     0,     0,     0,     0,     0,     0,     0,     0,\n",
       "            0,     0,     0,     0,     0,     0,     0,     0,     0,\n",
       "            0,     0,     0,     0,     0,     0,     0,     0,     0,\n",
       "            0,     0,     0,     0,     0,     0,     0,     0,     0,\n",
       "        65773, 23548, 36517, 60828, 31424, 14048, 64394, 51887, 43774,\n",
       "        23666, 46049,  3689, 23768, 10635, 46049, 65543, 47667, 45809,\n",
       "        65543, 37178,   568, 65773, 32520, 67051, 66340, 36514, 45809,\n",
       "        10869, 71992, 58598, 58510, 65543, 57436, 72586, 29692, 37178,\n",
       "        39682, 21724, 65543, 55490, 57048,  9236,   519,  3397,  5599,\n",
       "        41376],\n",
       "       [    0,     0,     0,     0,     0,     0,     0,     0,     0,\n",
       "            0,     0,     0,     0,     0,     0,     0,     0,     0,\n",
       "            0,     0,     0,     0,     0,     0,     0,     0,     0,\n",
       "            0,     0,     0,     0,     0,     0,     0,     0,     0,\n",
       "            0,     0,     0,     0,     0,     0,     0,     0,     0,\n",
       "            0,     0,     0,     0,     0,     0,     0,     0,     0,\n",
       "            0,     0,     0,     0,     0,     0,     0,     0,     0,\n",
       "            0,     0,     0,     0,     0,     0,     0,     0,     0,\n",
       "            0,     0,     0,     0, 65773, 33665, 19767, 65543, 43109,\n",
       "        68593, 23548, 32786, 65543,  8242,  9408, 63802, 33810, 24003,\n",
       "        33768, 18431, 45177, 26653,     1, 52990, 70555, 45809, 30468,\n",
       "        69054],\n",
       "       [    0,     0,     0,     0,     0,     0,     0,     0,     0,\n",
       "            0,     0,     0,     0,     0,     0,     0,     0,     0,\n",
       "            0,     0,     0,     0,     0,     0,     0,     0,     0,\n",
       "            0,     0,     0,     0,     0,     0,     0,     0,     0,\n",
       "            0,     0,     0,     0,     0,     0,     0,     0,     0,\n",
       "            0,     0, 60976, 21773, 31424, 36007, 65773, 33665, 63764,\n",
       "        66340,  5272,  2085,  3304, 23548,  8855, 72985, 65683, 59021,\n",
       "        29156, 28696, 46592, 28216,  3689, 65543, 57442, 60569, 48288,\n",
       "        14046,  6873, 65571,  7740, 46592,  2176, 45177, 71476,  1778,\n",
       "        65543, 57043, 16814,  2176, 48896, 17572, 71425, 21922, 65773,\n",
       "        62632, 33665, 66541, 47191, 66340, 71476, 65543,   212, 45809,\n",
       "            1],\n",
       "       [    0,     0,     0,     0,     0,     0,     0,     0,     0,\n",
       "            0,     0,     0,     0,     0,     0,     0,     0,     0,\n",
       "            0,     0,     0,     0,     0,     0,     0,     0,     0,\n",
       "            0,     0,     0,     0,     0,     0,     0,     0,     0,\n",
       "            0,     0,     0,     0,     0,     0,     0,     0,     0,\n",
       "            0,     0,     0,     0,     0,     0,     0,     0,     0,\n",
       "            0,     0,     0,     0,     0,     0,     0,     0,     0,\n",
       "            0,     0,     0,     0,     0,     0,     0,     0,     0,\n",
       "            0,     0,     0,     0,     0,     0,     0, 65773, 33665,\n",
       "        45177, 65543, 68025, 41140,  8242, 23548, 33768, 71425, 43370,\n",
       "        37545, 59928, 65500, 43109, 45809, 30149, 43290,  2176,   578,\n",
       "        28404],\n",
       "       [71992, 31424, 71425, 38141, 43774, 47578, 66544, 40892,  1697,\n",
       "        66340, 65543, 65547, 66340, 57754, 33178, 33768, 71425, 46065,\n",
       "        45809, 39921, 43290, 31424, 71483, 72586, 43774, 47578,  8855,\n",
       "        65773, 71425, 65543, 46095, 46065, 71596, 71215, 46592, 45809,\n",
       "        59532, 65596, 31424, 28404, 44548, 57783, 33178, 69455, 34885,\n",
       "        53168,  2176, 31424, 14046, 29156, 38154, 46592, 65543, 54471,\n",
       "        45809, 43774, 37775, 72610, 33768, 71943,     1, 50753, 49924,\n",
       "         2176, 47193,  7467, 49032, 45809, 56131, 72443,  2176, 10825,\n",
       "        67419, 72807,  1598, 33665, 46065, 45809, 43774, 23010, 17585,\n",
       "         8855, 33178, 33665,  8937, 22791, 65543, 72952, 49032, 45809,\n",
       "        14332, 45809, 30149,  9611, 32081, 65543, 69110, 63077, 45809,\n",
       "        32692]])"
      ]
     },
     "execution_count": 12,
     "metadata": {},
     "output_type": "execute_result"
    }
   ],
   "source": [
    "features[:10,:100]"
   ]
  },
  {
   "cell_type": "markdown",
   "metadata": {
    "deletable": true,
    "editable": true
   },
   "source": [
    "## Training, Validation, Test\n",
    "\n"
   ]
  },
  {
   "cell_type": "markdown",
   "metadata": {
    "deletable": true,
    "editable": true
   },
   "source": [
    "With our data in nice shape, we'll split it into training, validation, and test sets.\n",
    "\n",
    "> **Exercise:** Create the training, validation, and test sets here. You'll need to create sets for the features and the labels, `train_x` and `train_y` for example. Define a split fraction, `split_frac` as the fraction of data to keep in the training set. Usually this is set to 0.8 or 0.9. The rest of the data will be split in half to create the validation and testing data."
   ]
  },
  {
   "cell_type": "code",
   "execution_count": 13,
   "metadata": {
    "collapsed": false,
    "deletable": true,
    "editable": true
   },
   "outputs": [
    {
     "name": "stdout",
     "output_type": "stream",
     "text": [
      "\t\t\tFeature Shapes:\n",
      "Train set: \t\t(20000, 200) \n",
      "Validation set: \t(2500, 200) \n",
      "Test set: \t\t(2500, 200)\n"
     ]
    }
   ],
   "source": [
    "split_frac = 0.8\n",
    "\n",
    "split_idx = int(features.shape[0] * split_frac)\n",
    "train_x, val_x = features[:split_idx], features[split_idx:]\n",
    "train_y, val_y = labels[:split_idx], labels[split_idx:]\n",
    "\n",
    "split_idx = int(len(val_x) * 0.5)\n",
    "val_x, test_x = val_x[:split_idx], val_x[split_idx:]\n",
    "val_y, test_y = val_y[:split_idx], val_y[split_idx:]\n",
    "\n",
    "print(\"\\t\\t\\tFeature Shapes:\")\n",
    "print(\"Train set: \\t\\t{}\".format(train_x.shape), \n",
    "      \"\\nValidation set: \\t{}\".format(val_x.shape),\n",
    "      \"\\nTest set: \\t\\t{}\".format(test_x.shape))"
   ]
  },
  {
   "cell_type": "markdown",
   "metadata": {
    "deletable": true,
    "editable": true
   },
   "source": [
    "With train, validation, and text fractions of 0.8, 0.1, 0.1, the final shapes should look like:\n",
    "```\n",
    "                    Feature Shapes:\n",
    "Train set: \t\t (20000, 200) \n",
    "Validation set: \t(2500, 200) \n",
    "Test set: \t\t  (2500, 200)\n",
    "```"
   ]
  },
  {
   "cell_type": "markdown",
   "metadata": {
    "deletable": true,
    "editable": true
   },
   "source": [
    "## Build the graph\n",
    "\n",
    "Here, we'll build the graph. First up, defining the hyperparameters.\n",
    "\n",
    "* `lstm_size`: Number of units in the hidden layers in the LSTM cells. Usually larger is better performance wise. Common values are 128, 256, 512, etc.\n",
    "* `lstm_layers`: Number of LSTM layers in the network. I'd start with 1, then add more if I'm underfitting.\n",
    "* `batch_size`: The number of reviews to feed the network in one training pass. Typically this should be set as high as you can go without running out of memory.\n",
    "* `learning_rate`: Learning rate"
   ]
  },
  {
   "cell_type": "code",
   "execution_count": 14,
   "metadata": {
    "collapsed": true,
    "deletable": true,
    "editable": true
   },
   "outputs": [],
   "source": [
    "lstm_size = 512\n",
    "lstm_layers = 2\n",
    "batch_size = 500\n",
    "learning_rate = 0.001"
   ]
  },
  {
   "cell_type": "markdown",
   "metadata": {
    "deletable": true,
    "editable": true
   },
   "source": [
    "For the network itself, we'll be passing in our 200 element long review vectors. Each batch will be `batch_size` vectors. We'll also be using dropout on the LSTM layer, so we'll make a placeholder for the keep probability."
   ]
  },
  {
   "cell_type": "markdown",
   "metadata": {
    "deletable": true,
    "editable": true
   },
   "source": [
    "> **Exercise:** Create the `inputs_`, `labels_`, and drop out `keep_prob` placeholders using `tf.placeholder`. `labels_` needs to be two-dimensional to work with some functions later.  Since `keep_prob` is a scalar (a 0-dimensional tensor), you shouldn't provide a size to `tf.placeholder`."
   ]
  },
  {
   "cell_type": "code",
   "execution_count": 15,
   "metadata": {
    "collapsed": false,
    "deletable": true,
    "editable": true
   },
   "outputs": [],
   "source": [
    "n_words = len(vocab_to_int) + 1\n",
    "\n",
    "# Create the graph object\n",
    "graph = tf.Graph()\n",
    "# Add nodes to the graph\n",
    "with graph.as_default():\n",
    "    inputs_ = tf.placeholder(shape=[None, None], dtype=tf.int32, name=\"inputs\")\n",
    "    labels_ = tf.placeholder(shape=[None, None], dtype=tf.int32, name=\"labels\")\n",
    "    keep_prob = tf.placeholder(dtype=tf.float32, name=\"keep_prob\")"
   ]
  },
  {
   "cell_type": "markdown",
   "metadata": {
    "deletable": true,
    "editable": true
   },
   "source": [
    "### Embedding\n",
    "\n",
    "Now we'll add an embedding layer. We need to do this because there are 74000 words in our vocabulary. It is massively inefficient to one-hot encode our classes here. You should remember dealing with this problem from the word2vec lesson. Instead of one-hot encoding, we can have an embedding layer and use that layer as a lookup table. You could train an embedding layer using word2vec, then load it here. But, it's fine to just make a new layer and let the network learn the weights.\n",
    "\n",
    "> **Exercise:** Create the embedding lookup matrix as a `tf.Variable`. Use that embedding matrix to get the embedded vectors to pass to the LSTM cell with [`tf.nn.embedding_lookup`](https://www.tensorflow.org/api_docs/python/tf/nn/embedding_lookup). This function takes the embedding matrix and an input tensor, such as the review vectors. Then, it'll return another tensor with the embedded vectors. So, if the embedding layer has 200 units, the function will return a tensor with size [batch_size, 200].\n",
    "\n"
   ]
  },
  {
   "cell_type": "code",
   "execution_count": 16,
   "metadata": {
    "collapsed": false,
    "deletable": true,
    "editable": true
   },
   "outputs": [],
   "source": [
    "# Size of the embedding vectors (number of units in the embedding layer)\n",
    "embed_size = 300 \n",
    "\n",
    "with graph.as_default():\n",
    "    embedding = tf.Variable(tf.random_uniform(shape=[n_words, embed_size], minval=-1, maxval=1, name=\"embedding\"))\n",
    "    embed = tf.nn.embedding_lookup(embedding, ids=inputs_)"
   ]
  },
  {
   "cell_type": "markdown",
   "metadata": {
    "deletable": true,
    "editable": true
   },
   "source": [
    "### LSTM cell\n",
    "\n",
    "<img src=\"assets/network_diagram.png\" width=400px>\n",
    "\n",
    "Next, we'll create our LSTM cells to use in the recurrent network ([TensorFlow documentation](https://www.tensorflow.org/api_docs/python/tf/contrib/rnn)). Here we are just defining what the cells look like. This isn't actually building the graph, just defining the type of cells we want in our graph.\n",
    "\n",
    "To create a basic LSTM cell for the graph, you'll want to use `tf.contrib.rnn.BasicLSTMCell`. Looking at the function documentation:\n",
    "\n",
    "```\n",
    "tf.contrib.rnn.BasicLSTMCell(num_units, forget_bias=1.0, input_size=None, state_is_tuple=True, activation=<function tanh at 0x109f1ef28>)\n",
    "```\n",
    "\n",
    "you can see it takes a parameter called `num_units`, the number of units in the cell, called `lstm_size` in this code. So then, you can write something like \n",
    "\n",
    "```\n",
    "lstm = tf.contrib.rnn.BasicLSTMCell(num_units)\n",
    "```\n",
    "\n",
    "to create an LSTM cell with `num_units`. Next, you can add dropout to the cell with `tf.contrib.rnn.DropoutWrapper`. This just wraps the cell in another cell, but with dropout added to the inputs and/or outputs. It's a really convenient way to make your network better with almost no effort! So you'd do something like\n",
    "\n",
    "```\n",
    "drop = tf.contrib.rnn.DropoutWrapper(cell, output_keep_prob=keep_prob)\n",
    "```\n",
    "\n",
    "Most of the time, your network will have better performance with more layers. That's sort of the magic of deep learning, adding more layers allows the network to learn really complex relationships. Again, there is a simple way to create multiple layers of LSTM cells with `tf.contrib.rnn.MultiRNNCell`:\n",
    "\n",
    "```\n",
    "cell = tf.contrib.rnn.MultiRNNCell([drop] * lstm_layers)\n",
    "```\n",
    "\n",
    "Here, `[drop] * lstm_layers` creates a list of cells (`drop`) that is `lstm_layers` long. The `MultiRNNCell` wrapper builds this into multiple layers of RNN cells, one for each cell in the list.\n",
    "\n",
    "So the final cell you're using in the network is actually multiple (or just one) LSTM cells with dropout. But it all works the same from an achitectural viewpoint, just a more complicated graph in the cell.\n",
    "\n",
    "> **Exercise:** Below, use `tf.contrib.rnn.BasicLSTMCell` to create an LSTM cell. Then, add drop out to it with `tf.contrib.rnn.DropoutWrapper`. Finally, create multiple LSTM layers with `tf.contrib.rnn.MultiRNNCell`.\n",
    "\n",
    "Here is [a tutorial on building RNNs](https://www.tensorflow.org/tutorials/recurrent) that will help you out.\n"
   ]
  },
  {
   "cell_type": "code",
   "execution_count": 17,
   "metadata": {
    "collapsed": false,
    "deletable": true,
    "editable": true
   },
   "outputs": [],
   "source": [
    "with graph.as_default():\n",
    "    # Your basic LSTM cell\n",
    "    lstm = tf.contrib.rnn.BasicLSTMCell(lstm_size)\n",
    "    \n",
    "    # Add dropout to the cell\n",
    "    drop = tf.contrib.rnn.DropoutWrapper(lstm, output_keep_prob=keep_prob)\n",
    "    \n",
    "    # Stack up multiple LSTM layers, for deep learning\n",
    "    cell = tf.contrib.rnn.MultiRNNCell([drop] * lstm_layers)\n",
    "    \n",
    "    # Getting an initial state of all zeros\n",
    "    initial_state = cell.zero_state(batch_size, tf.float32)"
   ]
  },
  {
   "cell_type": "markdown",
   "metadata": {
    "deletable": true,
    "editable": true
   },
   "source": [
    "### RNN forward pass\n",
    "\n",
    "<img src=\"assets/network_diagram.png\" width=400px>\n",
    "\n",
    "Now we need to actually run the data through the RNN nodes. You can use [`tf.nn.dynamic_rnn`](https://www.tensorflow.org/api_docs/python/tf/nn/dynamic_rnn) to do this. You'd pass in the RNN cell you created (our multiple layered LSTM `cell` for instance), and the inputs to the network.\n",
    "\n",
    "```\n",
    "outputs, final_state = tf.nn.dynamic_rnn(cell, inputs, initial_state=initial_state)\n",
    "```\n",
    "\n",
    "Above I created an initial state, `initial_state`, to pass to the RNN. This is the cell state that is passed between the hidden layers in successive time steps. `tf.nn.dynamic_rnn` takes care of most of the work for us. We pass in our cell and the input to the cell, then it does the unrolling and everything else for us. It returns outputs for each time step and the final_state of the hidden layer.\n",
    "\n",
    "> **Exercise:** Use `tf.nn.dynamic_rnn` to add the forward pass through the RNN. Remember that we're actually passing in vectors from the embedding layer, `embed`.\n",
    "\n"
   ]
  },
  {
   "cell_type": "code",
   "execution_count": 18,
   "metadata": {
    "collapsed": true,
    "deletable": true,
    "editable": true
   },
   "outputs": [],
   "source": [
    "with graph.as_default():\n",
    "    outputs, final_state = tf.nn.dynamic_rnn(cell, embed, initial_state=initial_state)"
   ]
  },
  {
   "cell_type": "markdown",
   "metadata": {
    "deletable": true,
    "editable": true
   },
   "source": [
    "### Output\n",
    "\n",
    "We only care about the final output, we'll be using that as our sentiment prediction. So we need to grab the last output with `outputs[:, -1]`, the calculate the cost from that and `labels_`."
   ]
  },
  {
   "cell_type": "code",
   "execution_count": 19,
   "metadata": {
    "collapsed": true,
    "deletable": true,
    "editable": true
   },
   "outputs": [],
   "source": [
    "with graph.as_default():\n",
    "    predictions = tf.contrib.layers.fully_connected(outputs[:, -1], 1, activation_fn=tf.sigmoid)\n",
    "    cost = tf.losses.mean_squared_error(labels_, predictions)\n",
    "    \n",
    "    optimizer = tf.train.AdamOptimizer(learning_rate).minimize(cost)"
   ]
  },
  {
   "cell_type": "markdown",
   "metadata": {
    "deletable": true,
    "editable": true
   },
   "source": [
    "### Validation accuracy\n",
    "\n",
    "Here we can add a few nodes to calculate the accuracy which we'll use in the validation pass."
   ]
  },
  {
   "cell_type": "code",
   "execution_count": 20,
   "metadata": {
    "collapsed": true,
    "deletable": true,
    "editable": true
   },
   "outputs": [],
   "source": [
    "with graph.as_default():\n",
    "    correct_pred = tf.equal(tf.cast(tf.round(predictions), tf.int32), labels_)\n",
    "    accuracy = tf.reduce_mean(tf.cast(correct_pred, tf.float32))"
   ]
  },
  {
   "cell_type": "markdown",
   "metadata": {
    "deletable": true,
    "editable": true
   },
   "source": [
    "### Batching\n",
    "\n",
    "This is a simple function for returning batches from our data. First it removes data such that we only have full batches. Then it iterates through the `x` and `y` arrays and returns slices out of those arrays with size `[batch_size]`."
   ]
  },
  {
   "cell_type": "code",
   "execution_count": 21,
   "metadata": {
    "collapsed": true,
    "deletable": true,
    "editable": true
   },
   "outputs": [],
   "source": [
    "def get_batches(x, y, batch_size=100):\n",
    "    \n",
    "    n_batches = len(x)//batch_size\n",
    "    x, y = x[:n_batches*batch_size], y[:n_batches*batch_size]\n",
    "    for ii in range(0, len(x), batch_size):\n",
    "        yield x[ii:ii+batch_size], y[ii:ii+batch_size]"
   ]
  },
  {
   "cell_type": "markdown",
   "metadata": {
    "deletable": true,
    "editable": true
   },
   "source": [
    "## Training\n",
    "\n",
    "Below is the typical training code. If you want to do this yourself, feel free to delete all this code and implement it yourself. Before you run this, make sure the `checkpoints` directory exists."
   ]
  },
  {
   "cell_type": "code",
   "execution_count": 22,
   "metadata": {
    "collapsed": false,
    "deletable": true,
    "editable": true
   },
   "outputs": [
    {
     "name": "stdout",
     "output_type": "stream",
     "text": [
      "Epoch: 0/20 Iteration: 5 Train loss: 0.233\n",
      "Epoch: 0/20 Iteration: 10 Train loss: 0.242\n",
      "Epoch: 0/20 Iteration: 15 Train loss: 0.227\n",
      "Epoch: 0/20 Iteration: 20 Train loss: 0.210\n",
      "Epoch: 0/20 Iteration: 25 Train loss: 0.205\n",
      "Val acc: 0.600\n",
      "Epoch: 0/20 Iteration: 30 Train loss: 0.236\n",
      "Epoch: 0/20 Iteration: 35 Train loss: 0.217\n",
      "Epoch: 0/20 Iteration: 40 Train loss: 0.205\n",
      "Epoch: 1/20 Iteration: 45 Train loss: 0.161\n",
      "Epoch: 1/20 Iteration: 50 Train loss: 0.198\n",
      "Val acc: 0.723\n",
      "Epoch: 1/20 Iteration: 55 Train loss: 0.191\n",
      "Epoch: 1/20 Iteration: 60 Train loss: 0.239\n",
      "Epoch: 1/20 Iteration: 65 Train loss: 0.205\n",
      "Epoch: 1/20 Iteration: 70 Train loss: 0.195\n",
      "Epoch: 1/20 Iteration: 75 Train loss: 0.209\n",
      "Val acc: 0.538\n",
      "Epoch: 1/20 Iteration: 80 Train loss: 0.227\n",
      "Epoch: 2/20 Iteration: 85 Train loss: 0.218\n",
      "Epoch: 2/20 Iteration: 90 Train loss: 0.199\n",
      "Epoch: 2/20 Iteration: 95 Train loss: 0.190\n",
      "Epoch: 2/20 Iteration: 100 Train loss: 0.184\n",
      "Val acc: 0.746\n",
      "Epoch: 2/20 Iteration: 105 Train loss: 0.158\n",
      "Epoch: 2/20 Iteration: 110 Train loss: 0.174\n",
      "Epoch: 2/20 Iteration: 115 Train loss: 0.142\n",
      "Epoch: 2/20 Iteration: 120 Train loss: 0.167\n",
      "Epoch: 3/20 Iteration: 125 Train loss: 0.121\n",
      "Val acc: 0.791\n",
      "Epoch: 3/20 Iteration: 130 Train loss: 0.166\n",
      "Epoch: 3/20 Iteration: 135 Train loss: 0.161\n",
      "Epoch: 3/20 Iteration: 140 Train loss: 0.179\n",
      "Epoch: 3/20 Iteration: 145 Train loss: 0.315\n",
      "Epoch: 3/20 Iteration: 150 Train loss: 0.275\n",
      "Val acc: 0.500\n",
      "Epoch: 3/20 Iteration: 155 Train loss: 0.251\n",
      "Epoch: 3/20 Iteration: 160 Train loss: 0.251\n",
      "Epoch: 4/20 Iteration: 165 Train loss: 0.249\n",
      "Epoch: 4/20 Iteration: 170 Train loss: 0.251\n",
      "Epoch: 4/20 Iteration: 175 Train loss: 0.249\n",
      "Val acc: 0.561\n",
      "Epoch: 4/20 Iteration: 180 Train loss: 0.248\n",
      "Epoch: 4/20 Iteration: 185 Train loss: 0.245\n",
      "Epoch: 4/20 Iteration: 190 Train loss: 0.246\n",
      "Epoch: 4/20 Iteration: 195 Train loss: 0.248\n",
      "Epoch: 4/20 Iteration: 200 Train loss: 0.247\n",
      "Val acc: 0.576\n",
      "Epoch: 5/20 Iteration: 205 Train loss: 0.248\n",
      "Epoch: 5/20 Iteration: 210 Train loss: 0.238\n",
      "Epoch: 5/20 Iteration: 215 Train loss: 0.226\n",
      "Epoch: 5/20 Iteration: 220 Train loss: 0.212\n",
      "Epoch: 5/20 Iteration: 225 Train loss: 0.225\n",
      "Val acc: 0.655\n",
      "Epoch: 5/20 Iteration: 230 Train loss: 0.200\n",
      "Epoch: 5/20 Iteration: 235 Train loss: 0.243\n",
      "Epoch: 5/20 Iteration: 240 Train loss: 0.245\n",
      "Epoch: 6/20 Iteration: 245 Train loss: 0.229\n",
      "Epoch: 6/20 Iteration: 250 Train loss: 0.221\n",
      "Val acc: 0.628\n",
      "Epoch: 6/20 Iteration: 255 Train loss: 0.181\n",
      "Epoch: 6/20 Iteration: 260 Train loss: 0.196\n",
      "Epoch: 6/20 Iteration: 265 Train loss: 0.214\n",
      "Epoch: 6/20 Iteration: 270 Train loss: 0.213\n",
      "Epoch: 6/20 Iteration: 275 Train loss: 0.189\n",
      "Val acc: 0.709\n",
      "Epoch: 6/20 Iteration: 280 Train loss: 0.169\n",
      "Epoch: 7/20 Iteration: 285 Train loss: 0.115\n",
      "Epoch: 7/20 Iteration: 290 Train loss: 0.174\n",
      "Epoch: 7/20 Iteration: 295 Train loss: 0.191\n",
      "Epoch: 7/20 Iteration: 300 Train loss: 0.192\n",
      "Val acc: 0.668\n",
      "Epoch: 7/20 Iteration: 305 Train loss: 0.158\n",
      "Epoch: 7/20 Iteration: 310 Train loss: 0.127\n",
      "Epoch: 7/20 Iteration: 315 Train loss: 0.098\n",
      "Epoch: 7/20 Iteration: 320 Train loss: 0.140\n",
      "Epoch: 8/20 Iteration: 325 Train loss: 0.175\n",
      "Val acc: 0.794\n",
      "Epoch: 8/20 Iteration: 330 Train loss: 0.141\n",
      "Epoch: 8/20 Iteration: 335 Train loss: 0.159\n",
      "Epoch: 8/20 Iteration: 340 Train loss: 0.152\n",
      "Epoch: 8/20 Iteration: 345 Train loss: 0.088\n",
      "Epoch: 8/20 Iteration: 350 Train loss: 0.071\n",
      "Val acc: 0.793\n",
      "Epoch: 8/20 Iteration: 355 Train loss: 0.041\n",
      "Epoch: 8/20 Iteration: 360 Train loss: 0.068\n",
      "Epoch: 9/20 Iteration: 365 Train loss: 0.188\n",
      "Epoch: 9/20 Iteration: 370 Train loss: 0.469\n",
      "Epoch: 9/20 Iteration: 375 Train loss: 0.393\n",
      "Val acc: 0.512\n",
      "Epoch: 9/20 Iteration: 380 Train loss: 0.227\n",
      "Epoch: 9/20 Iteration: 385 Train loss: 0.222\n",
      "Epoch: 9/20 Iteration: 390 Train loss: 0.205\n",
      "Epoch: 9/20 Iteration: 395 Train loss: 0.163\n",
      "Epoch: 9/20 Iteration: 400 Train loss: 0.142\n",
      "Val acc: 0.803\n",
      "Epoch: 10/20 Iteration: 405 Train loss: 0.099\n",
      "Epoch: 10/20 Iteration: 410 Train loss: 0.082\n",
      "Epoch: 10/20 Iteration: 415 Train loss: 0.083\n",
      "Epoch: 10/20 Iteration: 420 Train loss: 0.049\n",
      "Epoch: 10/20 Iteration: 425 Train loss: 0.025\n",
      "Val acc: 0.807\n",
      "Epoch: 10/20 Iteration: 430 Train loss: 0.010\n",
      "Epoch: 10/20 Iteration: 435 Train loss: 0.008\n",
      "Epoch: 10/20 Iteration: 440 Train loss: 0.002\n",
      "Epoch: 11/20 Iteration: 445 Train loss: 0.040\n",
      "Epoch: 11/20 Iteration: 450 Train loss: 0.052\n",
      "Val acc: 0.722\n",
      "Epoch: 11/20 Iteration: 455 Train loss: 0.008\n",
      "Epoch: 11/20 Iteration: 460 Train loss: 0.037\n",
      "Epoch: 11/20 Iteration: 465 Train loss: 0.003\n",
      "Epoch: 11/20 Iteration: 470 Train loss: 0.010\n",
      "Epoch: 11/20 Iteration: 475 Train loss: 0.015\n",
      "Val acc: 0.652\n",
      "Epoch: 11/20 Iteration: 480 Train loss: 0.016\n",
      "Epoch: 12/20 Iteration: 485 Train loss: 0.061\n",
      "Epoch: 12/20 Iteration: 490 Train loss: 0.146\n",
      "Epoch: 12/20 Iteration: 495 Train loss: 0.074\n",
      "Epoch: 12/20 Iteration: 500 Train loss: 0.020\n",
      "Val acc: 0.756\n",
      "Epoch: 12/20 Iteration: 505 Train loss: 0.003\n",
      "Epoch: 12/20 Iteration: 510 Train loss: 0.020\n",
      "Epoch: 12/20 Iteration: 515 Train loss: 0.003\n",
      "Epoch: 12/20 Iteration: 520 Train loss: 0.001\n",
      "Epoch: 13/20 Iteration: 525 Train loss: 0.145\n",
      "Val acc: 0.766\n",
      "Epoch: 13/20 Iteration: 530 Train loss: 0.030\n",
      "Epoch: 13/20 Iteration: 535 Train loss: 0.112\n",
      "Epoch: 13/20 Iteration: 540 Train loss: 0.037\n",
      "Epoch: 13/20 Iteration: 545 Train loss: 0.150\n",
      "Epoch: 13/20 Iteration: 550 Train loss: 0.185\n",
      "Val acc: 0.820\n",
      "Epoch: 13/20 Iteration: 555 Train loss: 0.024\n",
      "Epoch: 13/20 Iteration: 560 Train loss: 0.146\n",
      "Epoch: 14/20 Iteration: 565 Train loss: 0.291\n",
      "Epoch: 14/20 Iteration: 570 Train loss: 0.132\n",
      "Epoch: 14/20 Iteration: 575 Train loss: 0.116\n",
      "Val acc: 0.562\n",
      "Epoch: 14/20 Iteration: 580 Train loss: 0.031\n",
      "Epoch: 14/20 Iteration: 585 Train loss: 0.010\n",
      "Epoch: 14/20 Iteration: 590 Train loss: 0.004\n",
      "Epoch: 14/20 Iteration: 595 Train loss: 0.001\n",
      "Epoch: 14/20 Iteration: 600 Train loss: 0.001\n",
      "Val acc: 0.720\n",
      "Epoch: 15/20 Iteration: 605 Train loss: 0.163\n",
      "Epoch: 15/20 Iteration: 610 Train loss: 0.143\n",
      "Epoch: 15/20 Iteration: 615 Train loss: 0.094\n",
      "Epoch: 15/20 Iteration: 620 Train loss: 0.023\n",
      "Epoch: 15/20 Iteration: 625 Train loss: 0.038\n",
      "Val acc: 0.661\n",
      "Epoch: 15/20 Iteration: 630 Train loss: 0.058\n",
      "Epoch: 15/20 Iteration: 635 Train loss: 0.018\n",
      "Epoch: 15/20 Iteration: 640 Train loss: 0.019\n",
      "Epoch: 16/20 Iteration: 645 Train loss: 0.072\n",
      "Epoch: 16/20 Iteration: 650 Train loss: 0.015\n",
      "Val acc: 0.686\n",
      "Epoch: 16/20 Iteration: 655 Train loss: 0.029\n",
      "Epoch: 16/20 Iteration: 660 Train loss: 0.063\n",
      "Epoch: 16/20 Iteration: 665 Train loss: 0.062\n",
      "Epoch: 16/20 Iteration: 670 Train loss: 0.046\n",
      "Epoch: 16/20 Iteration: 675 Train loss: 0.016\n",
      "Val acc: 0.842\n",
      "Epoch: 16/20 Iteration: 680 Train loss: 0.014\n",
      "Epoch: 17/20 Iteration: 685 Train loss: 0.024\n",
      "Epoch: 17/20 Iteration: 690 Train loss: 0.005\n",
      "Epoch: 17/20 Iteration: 695 Train loss: 0.002\n",
      "Epoch: 17/20 Iteration: 700 Train loss: 0.006\n",
      "Val acc: 0.704\n",
      "Epoch: 17/20 Iteration: 705 Train loss: 0.008\n",
      "Epoch: 17/20 Iteration: 710 Train loss: 0.005\n",
      "Epoch: 17/20 Iteration: 715 Train loss: 0.004\n",
      "Epoch: 17/20 Iteration: 720 Train loss: 0.002\n",
      "Epoch: 18/20 Iteration: 725 Train loss: 0.010\n",
      "Val acc: 0.871\n",
      "Epoch: 18/20 Iteration: 730 Train loss: 0.008\n",
      "Epoch: 18/20 Iteration: 735 Train loss: 0.020\n",
      "Epoch: 18/20 Iteration: 740 Train loss: 0.002\n",
      "Epoch: 18/20 Iteration: 745 Train loss: 0.001\n",
      "Epoch: 18/20 Iteration: 750 Train loss: 0.002\n",
      "Val acc: 0.835\n",
      "Epoch: 18/20 Iteration: 755 Train loss: 0.001\n",
      "Epoch: 18/20 Iteration: 760 Train loss: 0.000\n",
      "Epoch: 19/20 Iteration: 765 Train loss: 0.015\n",
      "Epoch: 19/20 Iteration: 770 Train loss: 0.001\n",
      "Epoch: 19/20 Iteration: 775 Train loss: 0.015\n",
      "Val acc: 0.734\n",
      "Epoch: 19/20 Iteration: 780 Train loss: 0.013\n",
      "Epoch: 19/20 Iteration: 785 Train loss: 0.001\n",
      "Epoch: 19/20 Iteration: 790 Train loss: 0.002\n",
      "Epoch: 19/20 Iteration: 795 Train loss: 0.001\n",
      "Epoch: 19/20 Iteration: 800 Train loss: 0.000\n",
      "Val acc: 0.781\n"
     ]
    }
   ],
   "source": [
    "epochs = 20\n",
    "\n",
    "with graph.as_default():\n",
    "    saver = tf.train.Saver()\n",
    "\n",
    "with tf.Session(graph=graph) as sess:\n",
    "    sess.run(tf.global_variables_initializer())\n",
    "    iteration = 1\n",
    "    for e in range(epochs):\n",
    "        state = sess.run(initial_state)\n",
    "        \n",
    "        for ii, (x, y) in enumerate(get_batches(train_x, train_y, batch_size), 1):\n",
    "            feed = {inputs_: x,\n",
    "                    labels_: y[:, None],\n",
    "                    keep_prob: 0.5,\n",
    "                    initial_state: state}\n",
    "            loss, state, _ = sess.run([cost, final_state, optimizer], feed_dict=feed)\n",
    "            \n",
    "            if iteration%5==0:\n",
    "                print(\"Epoch: {}/{}\".format(e, epochs),\n",
    "                      \"Iteration: {}\".format(iteration),\n",
    "                      \"Train loss: {:.3f}\".format(loss))\n",
    "\n",
    "            if iteration%25==0:\n",
    "                val_acc = []\n",
    "                val_state = sess.run(cell.zero_state(batch_size, tf.float32))\n",
    "                for x, y in get_batches(val_x, val_y, batch_size):\n",
    "                    feed = {inputs_: x,\n",
    "                            labels_: y[:, None],\n",
    "                            keep_prob: 1,\n",
    "                            initial_state: val_state}\n",
    "                    batch_acc, val_state = sess.run([accuracy, final_state], feed_dict=feed)\n",
    "                    val_acc.append(batch_acc)\n",
    "                print(\"Val acc: {:.3f}\".format(np.mean(val_acc)))\n",
    "            iteration +=1\n",
    "    saver.save(sess, \"checkpoints/sentiment.ckpt\")"
   ]
  },
  {
   "cell_type": "markdown",
   "metadata": {
    "deletable": true,
    "editable": true
   },
   "source": [
    "## Testing"
   ]
  },
  {
   "cell_type": "code",
   "execution_count": 23,
   "metadata": {
    "collapsed": false,
    "deletable": true,
    "editable": true
   },
   "outputs": [
    {
     "name": "stdout",
     "output_type": "stream",
     "text": [
      "Test accuracy: 0.818\n"
     ]
    }
   ],
   "source": [
    "test_acc = []\n",
    "with tf.Session(graph=graph) as sess:\n",
    "    saver.restore(sess, tf.train.latest_checkpoint('checkpoints'))\n",
    "    test_state = sess.run(cell.zero_state(batch_size, tf.float32))\n",
    "    for ii, (x, y) in enumerate(get_batches(test_x, test_y, batch_size), 1):\n",
    "        feed = {inputs_: x,\n",
    "                labels_: y[:, None],\n",
    "                keep_prob: 1,\n",
    "                initial_state: test_state}\n",
    "        batch_acc, test_state = sess.run([accuracy, final_state], feed_dict=feed)\n",
    "        test_acc.append(batch_acc)\n",
    "    print(\"Test accuracy: {:.3f}\".format(np.mean(test_acc)))"
   ]
  },
  {
   "cell_type": "code",
   "execution_count": null,
   "metadata": {
    "collapsed": true,
    "deletable": true,
    "editable": true
   },
   "outputs": [],
   "source": []
  }
 ],
 "metadata": {
  "kernelspec": {
   "display_name": "Python 3",
   "language": "python",
   "name": "python3"
  },
  "language_info": {
   "codemirror_mode": {
    "name": "ipython",
    "version": 3
   },
   "file_extension": ".py",
   "mimetype": "text/x-python",
   "name": "python",
   "nbconvert_exporter": "python",
   "pygments_lexer": "ipython3",
   "version": "3.6.0"
  }
 },
 "nbformat": 4,
 "nbformat_minor": 2
}
